{
 "cells": [
  {
   "metadata": {
    "ExecuteTime": {
     "end_time": "2025-02-22T08:01:15.148466Z",
     "start_time": "2025-02-22T08:01:15.144700Z"
    }
   },
   "cell_type": "code",
   "source": [
    "def longest_repeating_substring(s):\n",
    "    max_length = 0\n",
    "    current_length = 1\n",
    "\n",
    "    # 如果字符串为空，直接返回 0\n",
    "    if len(s) == 0:\n",
    "        return 0\n",
    "\n",
    "    for i in range(1, len(s)):\n",
    "        if s[i] == s[i - 1]:\n",
    "            current_length += 1\n",
    "        else:\n",
    "            # 更新最大长度\n",
    "            max_length = max(max_length, current_length)\n",
    "            # 重置当前长度\n",
    "            current_length = 1\n",
    "\n",
    "    # 处理字符串结尾连续重复的情况\n",
    "    max_length = max(max_length, current_length)\n",
    "\n",
    "    # 如果最大长度为 1，说明没有重复子串，返回 0\n",
    "    return max_length if max_length > 1 else 0"
   ],
   "id": "c10d3dc8b06d357b",
   "outputs": [],
   "execution_count": 29
  },
  {
   "metadata": {
    "ExecuteTime": {
     "end_time": "2025-02-22T08:01:15.153740Z",
     "start_time": "2025-02-22T08:01:15.150474Z"
    }
   },
   "cell_type": "code",
   "source": [
    "# 测试题目1\n",
    "s1 = \"abbc\"\n",
    "print(longest_repeating_substring(s1))\n",
    "\n",
    "s1 = \"abbcaaad\"\n",
    "print(longest_repeating_substring(s1))\n",
    "\n",
    "s1 = \"pwke\"\n",
    "print(longest_repeating_substring(s1))"
   ],
   "id": "de15c6858f2db900",
   "outputs": [
    {
     "name": "stdout",
     "output_type": "stream",
     "text": [
      "2\n",
      "3\n",
      "0\n"
     ]
    }
   ],
   "execution_count": 30
  },
  {
   "metadata": {
    "ExecuteTime": {
     "end_time": "2025-02-22T08:01:15.158188Z",
     "start_time": "2025-02-22T08:01:15.154748Z"
    }
   },
   "cell_type": "code",
   "source": [
    "def lengthOfLongestSubstring(s):\n",
    "    char_dict = {}\n",
    "    max_len = 0\n",
    "    start = 0\n",
    "    for end, char in enumerate(s):\n",
    "        if char in char_dict and char_dict[char] >= start:\n",
    "            start = char_dict[char] + 1\n",
    "        char_dict[char] = end\n",
    "        max_len = max(max_len, end - start + 1)\n",
    "    return max_len"
   ],
   "id": "61f86378ccb1e913",
   "outputs": [],
   "execution_count": 31
  },
  {
   "metadata": {
    "ExecuteTime": {
     "end_time": "2025-02-22T08:01:15.163164Z",
     "start_time": "2025-02-22T08:01:15.158188Z"
    }
   },
   "cell_type": "code",
   "source": [
    "# 测试题目2\n",
    "s2 = \"abcabcbb\"\n",
    "print(lengthOfLongestSubstring(s2))\n",
    "\n",
    "s2 = \"bbbbb\"\n",
    "print(lengthOfLongestSubstring(s2))\n",
    "\n",
    "s2 = \"pwwkew\"\n",
    "print(lengthOfLongestSubstring(s2))"
   ],
   "id": "c1307da5153bf029",
   "outputs": [
    {
     "name": "stdout",
     "output_type": "stream",
     "text": [
      "3\n",
      "1\n",
      "3\n"
     ]
    }
   ],
   "execution_count": 32
  },
  {
   "metadata": {
    "ExecuteTime": {
     "end_time": "2025-02-22T08:15:18.897877Z",
     "start_time": "2025-02-22T08:15:18.893448Z"
    }
   },
   "cell_type": "code",
   "source": [
    "def longest_repeating_substring(s):\n",
    "    max_len = 0\n",
    "    n = len(s)\n",
    "    for i in range(n):\n",
    "        count = 1\n",
    "        for j in range(i + 1, n):\n",
    "            if s[j] == s[j - 1]:\n",
    "                count += 1\n",
    "            else:\n",
    "                max_len = max(max_len, count)\n",
    "                count = 1\n",
    "        max_len = max(max_len, count)\n",
    "    return max_len\n",
    "# 测试题目1\n",
    "s1 = \"abbc\"\n",
    "print(longest_repeating_substring(s1))\n",
    "\n",
    "s1 = \"abbcaaad\"\n",
    "print(longest_repeating_substring(s1))\n",
    "\n",
    "s1 = \"pwke\"\n",
    "print(longest_repeating_substring(s1))"
   ],
   "id": "2384e38b1a3ac0f1",
   "outputs": [
    {
     "name": "stdout",
     "output_type": "stream",
     "text": [
      "2\n",
      "3\n",
      "1\n"
     ]
    }
   ],
   "execution_count": 33
  }
 ],
 "metadata": {
  "kernelspec": {
   "display_name": "Python 3",
   "language": "python",
   "name": "python3"
  },
  "language_info": {
   "codemirror_mode": {
    "name": "ipython",
    "version": 2
   },
   "file_extension": ".py",
   "mimetype": "text/x-python",
   "name": "python",
   "nbconvert_exporter": "python",
   "pygments_lexer": "ipython2",
   "version": "2.7.6"
  }
 },
 "nbformat": 4,
 "nbformat_minor": 5
}
