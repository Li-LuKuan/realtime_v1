{
 "cells": [
  {
   "cell_type": "code",
   "id": "initial_id",
   "metadata": {
    "collapsed": true,
    "ExecuteTime": {
     "end_time": "2025-02-22T02:42:28.877266Z",
     "start_time": "2025-02-22T02:42:28.862305Z"
    }
   },
   "source": [
    "import pandas as pd\n",
    "import numpy as np\n",
    "\n",
    "\n",
    "# 模拟保单实体数据\n",
    "def generate_policy_data(num_records):\n",
    "    data = {\n",
    "        'PL-I-L0085': np.random.randint(1000, 100000, num_records),  # 模拟总保费\n",
    "    }\n",
    "    return pd.DataFrame(data)\n",
    "\n",
    "\n",
    "# 模拟再保分出业务明细数据\n",
    "def generate_reinsurance_data(num_records):\n",
    "    data = {\n",
    "        'RI-I-L0098': np.random.randint(0, 50000, num_records)  # 模拟分出保费\n",
    "    }\n",
    "    return pd.DataFrame(data)\n",
    "\n",
    "\n",
    "# 模拟机构实体数据\n",
    "def generate_institution_data(num_records):\n",
    "    data = {\n",
    "        '10-1-G0008': np.random.randint(500000, 5000000, num_records)  # 模拟注册资本（代表所有者权益）\n",
    "    }\n",
    "    return pd.DataFrame(data)\n",
    "\n",
    "\n",
    "# 计算自留保费占净资产比\n",
    "def calculate_ratio(policy_data, reinsurance_data, institution_data):\n",
    "    combined_data = pd.concat([policy_data, reinsurance_data, institution_data], axis=1)\n",
    "    combined_data['报告期自留保费'] = combined_data['PL-I-L0085'] - combined_data['RI-I-L0098']\n",
    "    combined_data['所有者权益平均余额'] = (combined_data['10-1-G0008'] + combined_data['10-1-G0008']) / 2\n",
    "    combined_data['自留保费占净资产比'] = (combined_data['报告期自留保费'] / combined_data['所有者权益平均余额']) * 100\n",
    "    return combined_data[['报告期自留保费', '所有者权益平均余额', '自留保费占净资产比']]\n",
    "\n",
    "\n",
    "if __name__ == \"__main__\":\n",
    "    num_records = 20  # 假设生成10条模拟数据\n",
    "    policy_data = generate_policy_data(num_records)\n",
    "    reinsurance_data = generate_reinsurance_data(num_records)\n",
    "    institution_data = generate_institution_data(num_records)\n",
    "    result = calculate_ratio(policy_data, reinsurance_data, institution_data)\n",
    "    print(result)"
   ],
   "outputs": [
    {
     "name": "stdout",
     "output_type": "stream",
     "text": [
      "    报告期自留保费  所有者权益平均余额  自留保费占净资产比\n",
      "0     61162  4263856.0   1.434429\n",
      "1     -4763  1019581.0  -0.467153\n",
      "2     22148  3205662.0   0.690903\n",
      "3     -1826   687590.0  -0.265565\n",
      "4    -17565  1099702.0  -1.597251\n",
      "5     34923  3493789.0   0.999574\n",
      "6     -9004  4262232.0  -0.211251\n",
      "7     -6430  4171780.0  -0.154131\n",
      "8     40764  3640866.0   1.119624\n",
      "9     47571  3398397.0   1.399807\n",
      "10    70426  3604298.0   1.953945\n",
      "11    35968  1166648.0   3.083021\n",
      "12    72167  2132145.0   3.384714\n",
      "13    93080   543825.0  17.115800\n",
      "14    39130  4778348.0   0.818902\n",
      "15    13556  1832646.0   0.739696\n",
      "16    26758  2125147.0   1.259113\n",
      "17    38820  2617016.0   1.483369\n",
      "18    91731  3674891.0   2.496156\n",
      "19    -1820  4324510.0  -0.042086\n"
     ]
    }
   ],
   "execution_count": 5
  },
  {
   "metadata": {},
   "cell_type": "code",
   "outputs": [],
   "execution_count": null,
   "source": "",
   "id": "8e528ce958ebc272"
  }
 ],
 "metadata": {
  "kernelspec": {
   "display_name": "Python 3",
   "language": "python",
   "name": "python3"
  },
  "language_info": {
   "codemirror_mode": {
    "name": "ipython",
    "version": 2
   },
   "file_extension": ".py",
   "mimetype": "text/x-python",
   "name": "python",
   "nbconvert_exporter": "python",
   "pygments_lexer": "ipython2",
   "version": "2.7.6"
  }
 },
 "nbformat": 4,
 "nbformat_minor": 5
}
